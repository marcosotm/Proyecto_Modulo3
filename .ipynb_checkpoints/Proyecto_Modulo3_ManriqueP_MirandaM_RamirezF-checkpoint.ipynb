{
 "cells": [
  {
   "cell_type": "markdown",
   "metadata": {
    "collapsed": true
   },
   "source": [
    "# Proyecto 3 Simulación Montecarlo: Ruleta Europea\n",
    "\n",
    "<img style=\"float: right; margin: 0px 0px 15px 15px;\" src=\"https://www.cuentocolectivo.com/wp-content/uploads/2016/04/ruleta.jpg\" width=\"400px\" height=\"600px\" />\n",
    "\n",
    "Simulación Matemática.\n",
    "# <font color=\"PURPLE\">**INTEGRANTES:**</font>\n",
    "\n",
    "* <font color=\"red\">**INTEGRANTE 1 :**</font> Marcos Ortíz Tirado Miranda.\n",
    "* <font color=\"red\">**INTEGRANTE 2 :**</font> Paulina Milenka Glez Manrique.\n",
    "* <font color=\"red\">**INTEGRANTE 3 :**</font>  Francisco Ricardo Rodríguez Ramírez\n",
    "\n",
    "\n",
    "\n",
    "<font color=\"red\">**Repositorio remoto del integrante 1 :**</font> https://github.com/marcosotm/Proyecto_Modulo3"
   ]
  },
  {
   "cell_type": "markdown",
   "metadata": {},
   "source": [
    "#  <span style=\"color:blue\">**1.1 Objetivos**</span>"
   ]
  },
  {
   "cell_type": "markdown",
   "metadata": {},
   "source": [
    " #### 1.2.1 Objetivo general.\n",
    "\n",
    "> * Analizar el comportamiento de una serie de simulaciones con el fin de utilizar la simulación Montecarlo, así como el lenguaje de programación de Python."
   ]
  },
  {
   "cell_type": "markdown",
   "metadata": {},
   "source": [
    "#### 1.2.2 Objetivo específico.\n",
    "> * Analizar el comportamiento de una serie de simulaciones de alguien que juega en un casino a la ruleta Europea para observar los casos más convenientes del juego.  \n",
    "\n",
    "> * Se pretende analizar las posibles apuestas, las probabilidades de ganar y perder así como las opciones factibles de un apostador."
   ]
  },
  {
   "cell_type": "markdown",
   "metadata": {},
   "source": [
    "#  <span style=\"color:blue\">**1.2 Descripción del trabajo **</span>"
   ]
  },
  {
   "cell_type": "markdown",
   "metadata": {},
   "source": [
    "## <font color = \"green\" > **¿Qué es el juego de la ruleta?**:\n",
    "\n",
    "\n",
    "> La ruleta es un juego de azar jugado con una rueda que tiene 37 ranuras numeradas de 0 a 36. Las ranuras alrededor de la carrera son alternativamente rojas y negras con excepción de la rueda número 0, que es de color verde. El diseño permite a los jugadores de realizar sus apuestas sobre el número o color deseado/a. Los jugadores pueden hacer apuestas sobre un número, un color o una serie de números. Una vez que las apuestas se colocan por todos los jugadores, la rueda de la ruleta se hace girar.\n",
    "\n",
    "\n",
    "Además de los colores rojo y negro,  el juego también cuenta con el color verde el cual se presenta una o dos veces dependiendo del tipo de ruleta. En la europea se presenta solo una vez en la casilla del 0 y en la americana se presenta dos veces el color verde en las casillas del 0 y el 00.\n",
    "\n",
    "De esta forma se puede decir que la diferencia es que en la ruleta americana se tiene el 0 y el 00 y esto le da una ventaja a la casa de más de un 5 %. En el caso de la ruleta europea, al contar con un solo 0, esta solo da una ventaja de 2.70 %.\n",
    "\n",
    "\n",
    "#### La forma en la que se pagan las apuestas son las siguientes:\n",
    "\n",
    "\n",
    "\n"
   ]
  },
  {
   "cell_type": "code",
   "execution_count": 2,
   "metadata": {
    "collapsed": true
   },
   "outputs": [],
   "source": [
    "import pandas as pd"
   ]
  },
  {
   "cell_type": "code",
   "execution_count": 13,
   "metadata": {},
   "outputs": [
    {
     "data": {
      "text/html": [
       "<div>\n",
       "<style>\n",
       "    .dataframe thead tr:only-child th {\n",
       "        text-align: right;\n",
       "    }\n",
       "\n",
       "    .dataframe thead th {\n",
       "        text-align: left;\n",
       "    }\n",
       "\n",
       "    .dataframe tbody tr th {\n",
       "        vertical-align: top;\n",
       "    }\n",
       "</style>\n",
       "<table border=\"1\" class=\"dataframe\">\n",
       "  <thead>\n",
       "    <tr style=\"text-align: right;\">\n",
       "      <th></th>\n",
       "      <th>Apuesta</th>\n",
       "      <th>Paga</th>\n",
       "    </tr>\n",
       "  </thead>\n",
       "  <tbody>\n",
       "    <tr>\n",
       "      <th>Pleno</th>\n",
       "      <td>Apuesta un número incluyendo el 0</td>\n",
       "      <td>35 a 1</td>\n",
       "    </tr>\n",
       "    <tr>\n",
       "      <th>Semi-pleno</th>\n",
       "      <td>Cubre dos números</td>\n",
       "      <td>17 a 1</td>\n",
       "    </tr>\n",
       "    <tr>\n",
       "      <th>Calle</th>\n",
       "      <td>Cubre tres números</td>\n",
       "      <td>11 a 1</td>\n",
       "    </tr>\n",
       "    <tr>\n",
       "      <th>Cuadro</th>\n",
       "      <td>Cubre 4 números</td>\n",
       "      <td>8 a 1</td>\n",
       "    </tr>\n",
       "    <tr>\n",
       "      <th>Columna</th>\n",
       "      <td>Cubre una columna</td>\n",
       "      <td>2 a 1</td>\n",
       "    </tr>\n",
       "    <tr>\n",
       "      <th>Linea</th>\n",
       "      <td>Cubre 6 números</td>\n",
       "      <td>5 a 1</td>\n",
       "    </tr>\n",
       "    <tr>\n",
       "      <th>Docena</th>\n",
       "      <td>Cubre una serie de 12 números</td>\n",
       "      <td>2 a 1</td>\n",
       "    </tr>\n",
       "    <tr>\n",
       "      <th>Chances simples</th>\n",
       "      <td>Cubre la parte específica para chances</td>\n",
       "      <td>1 a 1</td>\n",
       "    </tr>\n",
       "    <tr>\n",
       "      <th>Cubre 0,1,2</th>\n",
       "      <td>Cubre 0,1,2</td>\n",
       "      <td>8 a 1</td>\n",
       "    </tr>\n",
       "  </tbody>\n",
       "</table>\n",
       "</div>"
      ],
      "text/plain": [
       "                                                Apuesta     Paga\n",
       "Pleno                 Apuesta un número incluyendo el 0   35 a 1\n",
       "Semi-pleno                            Cubre dos números   17 a 1\n",
       "Calle                                Cubre tres números   11 a 1\n",
       "Cuadro                                  Cubre 4 números    8 a 1\n",
       "Columna                               Cubre una columna    2 a 1\n",
       "Linea                                   Cubre 6 números    5 a 1\n",
       "Docena                    Cubre una serie de 12 números    2 a 1\n",
       "Chances simples  Cubre la parte específica para chances    1 a 1\n",
       "Cubre 0,1,2                                 Cubre 0,1,2    8 a 1"
      ]
     },
     "execution_count": 13,
     "metadata": {},
     "output_type": "execute_result"
    }
   ],
   "source": [
    "df = pd.DataFrame(columns=['Apuesta', 'Paga'], index = ['Pleno', 'Semi-pleno', 'Calle', 'Cuadro','Columna', 'Linea','Docena', 'Chances simples','Cubre 0,1,2'])\n",
    "df.loc['Pleno', :] = [\"Apuesta un número incluyendo el 0\", \"35 a 1\"]\n",
    "df.loc[ \"Semi-pleno\", :] = [\"Cubre dos números\" ,\" 17 a 1\"]\n",
    "df.loc['Calle', :] = [\"Cubre tres números\", \"11 a 1\"]\n",
    "df.loc['Cuadro', :] = [\"Cubre 4 números\", \"8 a 1\" ]\n",
    "df.loc['Linea', :] = [\"Cubre 6 números\", \"5 a 1\" ]\n",
    "df.loc['Columna', :] = ['Cubre una columna',\"2 a 1\" ]\n",
    "df.loc['Docena', :] = ['Cubre una serie de 12 números',\"2 a 1\" ]\n",
    "df.loc['Chances simples', :] = [\"Cubre la parte específica para chances\",\"1 a 1\"]\n",
    "df.loc['Cubre 0,1,2', :] = ['Cubre 0,1,2',\"8 a 1\"]\n",
    "\n",
    "df"
   ]
  },
  {
   "cell_type": "code",
   "execution_count": null,
   "metadata": {
    "collapsed": true
   },
   "outputs": [],
   "source": []
  },
  {
   "cell_type": "code",
   "execution_count": null,
   "metadata": {
    "collapsed": true
   },
   "outputs": [],
   "source": []
  },
  {
   "cell_type": "markdown",
   "metadata": {},
   "source": []
  },
  {
   "cell_type": "code",
   "execution_count": null,
   "metadata": {
    "collapsed": true
   },
   "outputs": [],
   "source": []
  },
  {
   "cell_type": "code",
   "execution_count": null,
   "metadata": {
    "collapsed": true
   },
   "outputs": [],
   "source": []
  },
  {
   "cell_type": "code",
   "execution_count": null,
   "metadata": {
    "collapsed": true
   },
   "outputs": [],
   "source": []
  },
  {
   "cell_type": "code",
   "execution_count": null,
   "metadata": {
    "collapsed": true
   },
   "outputs": [],
   "source": []
  },
  {
   "cell_type": "markdown",
   "metadata": {},
   "source": [
    "#  <span style=\"color:blue\">**1.3 Simulaciones**</span>"
   ]
  },
  {
   "cell_type": "code",
   "execution_count": 6,
   "metadata": {
    "collapsed": true
   },
   "outputs": [],
   "source": [
    "import numpy as np\n",
    "import random"
   ]
  },
  {
   "cell_type": "code",
   "execution_count": 7,
   "metadata": {
    "collapsed": true
   },
   "outputs": [],
   "source": [
    "rojos = [1,3,5,7,9,12,14,16,18,19,21,23,25,27,30,32,34,36]\n",
    "n = 0\n",
    "\n",
    "def girar_ruleta():\n",
    "    numero = random.randint(0, 36)\n",
    "    if numero == 0:\n",
    "        color = 'verde'\n",
    "        even = 'na'\n",
    "    else:\n",
    "        for n in range(18):\n",
    "            if numero == rojos[n]:\n",
    "                color = 'rojo'\n",
    "                break\n",
    "            else:\n",
    "                color = 'negro'\n",
    "    \n",
    "        if numero%2 == 0:\n",
    "            even = 'par'\n",
    "        else:\n",
    "            even = 'impar'\n",
    "    return numero, color, even\n",
    "\n",
    "\n"
   ]
  },
  {
   "cell_type": "markdown",
   "metadata": {},
   "source": [
    "Giramos la ruleta 100 veces para verificar que esta funcione correctamente "
   ]
  },
  {
   "cell_type": "code",
   "execution_count": 8,
   "metadata": {},
   "outputs": [
    {
     "name": "stdout",
     "output_type": "stream",
     "text": [
      "resultado  1 : (11, 'negro', 'impar')\n",
      "resultado  2 : (15, 'negro', 'impar')\n",
      "resultado  3 : (4, 'negro', 'par')\n",
      "resultado  4 : (14, 'rojo', 'par')\n",
      "resultado  5 : (33, 'negro', 'impar')\n",
      "resultado  6 : (7, 'rojo', 'impar')\n",
      "resultado  7 : (34, 'rojo', 'par')\n",
      "resultado  8 : (28, 'negro', 'par')\n",
      "resultado  9 : (15, 'negro', 'impar')\n",
      "resultado  10 : (35, 'negro', 'impar')\n",
      "resultado  11 : (27, 'rojo', 'impar')\n",
      "resultado  12 : (26, 'negro', 'par')\n",
      "resultado  13 : (18, 'rojo', 'par')\n",
      "resultado  14 : (19, 'rojo', 'impar')\n",
      "resultado  15 : (1, 'rojo', 'impar')\n",
      "resultado  16 : (6, 'negro', 'par')\n",
      "resultado  17 : (11, 'negro', 'impar')\n",
      "resultado  18 : (28, 'negro', 'par')\n",
      "resultado  19 : (13, 'negro', 'impar')\n",
      "resultado  20 : (5, 'rojo', 'impar')\n",
      "resultado  21 : (29, 'negro', 'impar')\n",
      "resultado  22 : (5, 'rojo', 'impar')\n",
      "resultado  23 : (24, 'negro', 'par')\n",
      "resultado  24 : (32, 'rojo', 'par')\n",
      "resultado  25 : (25, 'rojo', 'impar')\n",
      "resultado  26 : (8, 'negro', 'par')\n",
      "resultado  27 : (23, 'rojo', 'impar')\n",
      "resultado  28 : (33, 'negro', 'impar')\n",
      "resultado  29 : (10, 'negro', 'par')\n",
      "resultado  30 : (23, 'rojo', 'impar')\n",
      "resultado  31 : (3, 'rojo', 'impar')\n",
      "resultado  32 : (31, 'negro', 'impar')\n",
      "resultado  33 : (31, 'negro', 'impar')\n",
      "resultado  34 : (22, 'negro', 'par')\n",
      "resultado  35 : (7, 'rojo', 'impar')\n",
      "resultado  36 : (2, 'negro', 'par')\n",
      "resultado  37 : (4, 'negro', 'par')\n",
      "resultado  38 : (29, 'negro', 'impar')\n",
      "resultado  39 : (36, 'rojo', 'par')\n",
      "resultado  40 : (16, 'rojo', 'par')\n",
      "resultado  41 : (4, 'negro', 'par')\n",
      "resultado  42 : (0, 'verde', 'na')\n",
      "resultado  43 : (32, 'rojo', 'par')\n",
      "resultado  44 : (20, 'negro', 'par')\n",
      "resultado  45 : (7, 'rojo', 'impar')\n",
      "resultado  46 : (10, 'negro', 'par')\n",
      "resultado  47 : (8, 'negro', 'par')\n",
      "resultado  48 : (12, 'rojo', 'par')\n",
      "resultado  49 : (31, 'negro', 'impar')\n",
      "resultado  50 : (4, 'negro', 'par')\n",
      "resultado  51 : (24, 'negro', 'par')\n",
      "resultado  52 : (4, 'negro', 'par')\n",
      "resultado  53 : (13, 'negro', 'impar')\n",
      "resultado  54 : (24, 'negro', 'par')\n",
      "resultado  55 : (36, 'rojo', 'par')\n",
      "resultado  56 : (23, 'rojo', 'impar')\n",
      "resultado  57 : (12, 'rojo', 'par')\n",
      "resultado  58 : (1, 'rojo', 'impar')\n",
      "resultado  59 : (14, 'rojo', 'par')\n",
      "resultado  60 : (31, 'negro', 'impar')\n",
      "resultado  61 : (14, 'rojo', 'par')\n",
      "resultado  62 : (6, 'negro', 'par')\n",
      "resultado  63 : (18, 'rojo', 'par')\n",
      "resultado  64 : (36, 'rojo', 'par')\n",
      "resultado  65 : (23, 'rojo', 'impar')\n",
      "resultado  66 : (3, 'rojo', 'impar')\n",
      "resultado  67 : (33, 'negro', 'impar')\n",
      "resultado  68 : (8, 'negro', 'par')\n",
      "resultado  69 : (15, 'negro', 'impar')\n",
      "resultado  70 : (33, 'negro', 'impar')\n",
      "resultado  71 : (33, 'negro', 'impar')\n",
      "resultado  72 : (27, 'rojo', 'impar')\n",
      "resultado  73 : (29, 'negro', 'impar')\n",
      "resultado  74 : (0, 'verde', 'na')\n",
      "resultado  75 : (33, 'negro', 'impar')\n",
      "resultado  76 : (1, 'rojo', 'impar')\n",
      "resultado  77 : (10, 'negro', 'par')\n",
      "resultado  78 : (31, 'negro', 'impar')\n",
      "resultado  79 : (16, 'rojo', 'par')\n",
      "resultado  80 : (12, 'rojo', 'par')\n",
      "resultado  81 : (20, 'negro', 'par')\n",
      "resultado  82 : (8, 'negro', 'par')\n",
      "resultado  83 : (10, 'negro', 'par')\n",
      "resultado  84 : (3, 'rojo', 'impar')\n",
      "resultado  85 : (1, 'rojo', 'impar')\n",
      "resultado  86 : (29, 'negro', 'impar')\n",
      "resultado  87 : (30, 'rojo', 'par')\n",
      "resultado  88 : (1, 'rojo', 'impar')\n",
      "resultado  89 : (30, 'rojo', 'par')\n",
      "resultado  90 : (36, 'rojo', 'par')\n",
      "resultado  91 : (0, 'verde', 'na')\n",
      "resultado  92 : (35, 'negro', 'impar')\n",
      "resultado  93 : (13, 'negro', 'impar')\n",
      "resultado  94 : (27, 'rojo', 'impar')\n",
      "resultado  95 : (33, 'negro', 'impar')\n",
      "resultado  96 : (34, 'rojo', 'par')\n",
      "resultado  97 : (13, 'negro', 'impar')\n",
      "resultado  98 : (12, 'rojo', 'par')\n",
      "resultado  99 : (7, 'rojo', 'impar')\n",
      "resultado  100 : (0, 'verde', 'na')\n"
     ]
    }
   ],
   "source": [
    "N = 100\n",
    "for i in range(N):\n",
    "    print(\"resultado \",i+1, \":\", girar_ruleta())"
   ]
  },
  {
   "cell_type": "markdown",
   "metadata": {},
   "source": [
    "#  <span style=\"color:blue\">**1.4 Conclusiones**</span>"
   ]
  },
  {
   "cell_type": "code",
   "execution_count": null,
   "metadata": {
    "collapsed": true
   },
   "outputs": [],
   "source": []
  },
  {
   "cell_type": "code",
   "execution_count": null,
   "metadata": {
    "collapsed": true
   },
   "outputs": [],
   "source": []
  },
  {
   "cell_type": "markdown",
   "metadata": {},
   "source": [
    "#  <span style=\"color:blue\">**1.5 Bibliografía**</span>"
   ]
  },
  {
   "cell_type": "markdown",
   "metadata": {
    "collapsed": true
   },
   "source": [
    "https://www.juegos-casino.org/reglas-ruleta.html "
   ]
  },
  {
   "cell_type": "markdown",
   "metadata": {
    "collapsed": true
   },
   "source": [
    "http://www.casinosantafe.com.ar/casino/reglamento-ruleta-americana/"
   ]
  },
  {
   "cell_type": "code",
   "execution_count": null,
   "metadata": {
    "collapsed": true
   },
   "outputs": [],
   "source": []
  }
 ],
 "metadata": {
  "kernelspec": {
   "display_name": "Python 3",
   "language": "python",
   "name": "python3"
  },
  "language_info": {
   "codemirror_mode": {
    "name": "ipython",
    "version": 3
   },
   "file_extension": ".py",
   "mimetype": "text/x-python",
   "name": "python",
   "nbconvert_exporter": "python",
   "pygments_lexer": "ipython3",
   "version": "3.6.3"
  }
 },
 "nbformat": 4,
 "nbformat_minor": 2
}
